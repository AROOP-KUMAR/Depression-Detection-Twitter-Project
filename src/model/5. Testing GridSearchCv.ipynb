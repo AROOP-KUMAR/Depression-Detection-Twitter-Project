{
 "cells": [
  {
   "cell_type": "code",
   "execution_count": 1,
   "id": "988d5f8b",
   "metadata": {},
   "outputs": [],
   "source": [
    "import pickle\n",
    "import warnings\n",
    "import pandas as pd\n",
    "import time\n",
    "import seaborn as sns\n",
    "import matplotlib.pyplot as plt\n",
    "\n",
    "from sklearn.model_selection import train_test_split, GridSearchCV\n",
    "from sklearn.feature_extraction.text import CountVectorizer\n",
    "from sklearn.pipeline import Pipeline\n",
    "from utility_functions import model_evaluate, preprocess_data\n",
    "\n",
    "from sklearn.linear_model import LogisticRegression\n",
    "from sklearn.naive_bayes import MultinomialNB\n",
    "from xgboost import XGBClassifier\n",
    "from mlxtend.classifier import StackingCVClassifier"
   ]
  },
  {
   "cell_type": "code",
   "execution_count": 2,
   "id": "3f90d0bd",
   "metadata": {},
   "outputs": [],
   "source": [
    "warnings.filterwarnings(\"ignore\")\n",
    "pd.set_option(\"display.max_colwidth\", 200)\n",
    "sns.set_context(\"talk\", font_scale=1)"
   ]
  },
  {
   "cell_type": "code",
   "execution_count": 115,
   "id": "08ec6f5b",
   "metadata": {},
   "outputs": [],
   "source": [
    "data = pd.read_pickle(\"data/processed_training_data.pkl\")\n",
    "val_data = pd.read_pickle(\"data/processed_validation_data.pkl\")"
   ]
  },
  {
   "cell_type": "code",
   "execution_count": 116,
   "id": "b91683ea",
   "metadata": {},
   "outputs": [
    {
     "data": {
      "text/html": [
       "<div>\n",
       "<style scoped>\n",
       "    .dataframe tbody tr th:only-of-type {\n",
       "        vertical-align: middle;\n",
       "    }\n",
       "\n",
       "    .dataframe tbody tr th {\n",
       "        vertical-align: top;\n",
       "    }\n",
       "\n",
       "    .dataframe thead th {\n",
       "        text-align: right;\n",
       "    }\n",
       "</style>\n",
       "<table border=\"1\" class=\"dataframe\">\n",
       "  <thead>\n",
       "    <tr style=\"text-align: right;\">\n",
       "      <th></th>\n",
       "      <th>Tweet</th>\n",
       "      <th>Depressive</th>\n",
       "    </tr>\n",
       "  </thead>\n",
       "  <tbody>\n",
       "    <tr>\n",
       "      <th>0</th>\n",
       "      <td>severely depressed summer seriously thought haveis not depression anymore surpassed first holder new worse mental illness</td>\n",
       "      <td>1</td>\n",
       "    </tr>\n",
       "    <tr>\n",
       "      <th>1</th>\n",
       "      <td>like wake panic knowing thing get done today already dreading moment foot touch ground mentalhealthissues anxienty depression</td>\n",
       "      <td>1</td>\n",
       "    </tr>\n",
       "    <tr>\n",
       "      <th>2</th>\n",
       "      <td>bpd anxiety depression</td>\n",
       "      <td>1</td>\n",
       "    </tr>\n",
       "    <tr>\n",
       "      <th>3</th>\n",
       "      <td>depression make forget trying not gain weight</td>\n",
       "      <td>1</td>\n",
       "    </tr>\n",
       "    <tr>\n",
       "      <th>4</th>\n",
       "      <td>really survive depression</td>\n",
       "      <td>1</td>\n",
       "    </tr>\n",
       "  </tbody>\n",
       "</table>\n",
       "</div>"
      ],
      "text/plain": [
       "                                                                                                                            Tweet  \\\n",
       "0      severely depressed summer seriously thought haveis not depression anymore surpassed first holder new worse mental illness    \n",
       "1  like wake panic knowing thing get done today already dreading moment foot touch ground mentalhealthissues anxienty depression    \n",
       "2                                                                                                         bpd anxiety depression    \n",
       "3                                                                                  depression make forget trying not gain weight    \n",
       "4                                                                                                      really survive depression    \n",
       "\n",
       "   Depressive  \n",
       "0           1  \n",
       "1           1  \n",
       "2           1  \n",
       "3           1  \n",
       "4           1  "
      ]
     },
     "execution_count": 116,
     "metadata": {},
     "output_type": "execute_result"
    }
   ],
   "source": [
    "data.head()"
   ]
  },
  {
   "cell_type": "code",
   "execution_count": 117,
   "id": "a250731b",
   "metadata": {},
   "outputs": [
    {
     "data": {
      "text/html": [
       "<div>\n",
       "<style scoped>\n",
       "    .dataframe tbody tr th:only-of-type {\n",
       "        vertical-align: middle;\n",
       "    }\n",
       "\n",
       "    .dataframe tbody tr th {\n",
       "        vertical-align: top;\n",
       "    }\n",
       "\n",
       "    .dataframe thead th {\n",
       "        text-align: right;\n",
       "    }\n",
       "</style>\n",
       "<table border=\"1\" class=\"dataframe\">\n",
       "  <thead>\n",
       "    <tr style=\"text-align: right;\">\n",
       "      <th></th>\n",
       "      <th>Tweet</th>\n",
       "      <th>Depressive</th>\n",
       "    </tr>\n",
       "  </thead>\n",
       "  <tbody>\n",
       "    <tr>\n",
       "      <th>1081861</th>\n",
       "      <td>woke no school best feeling ever</td>\n",
       "      <td>0</td>\n",
       "    </tr>\n",
       "    <tr>\n",
       "      <th>1081862</th>\n",
       "      <td>thewdb com cool hear old walt interview</td>\n",
       "      <td>0</td>\n",
       "    </tr>\n",
       "    <tr>\n",
       "      <th>1081863</th>\n",
       "      <td>ready mojo makeover ask detail</td>\n",
       "      <td>0</td>\n",
       "    </tr>\n",
       "    <tr>\n",
       "      <th>1081864</th>\n",
       "      <td>happy th birthday boo time tupac amaru shakur</td>\n",
       "      <td>0</td>\n",
       "    </tr>\n",
       "    <tr>\n",
       "      <th>1081865</th>\n",
       "      <td>happy charitytuesday</td>\n",
       "      <td>0</td>\n",
       "    </tr>\n",
       "  </tbody>\n",
       "</table>\n",
       "</div>"
      ],
      "text/plain": [
       "                                                  Tweet  Depressive\n",
       "1081861               woke no school best feeling ever            0\n",
       "1081862        thewdb com cool hear old walt interview            0\n",
       "1081863                 ready mojo makeover ask detail            0\n",
       "1081864  happy th birthday boo time tupac amaru shakur            0\n",
       "1081865                           happy charitytuesday            0"
      ]
     },
     "execution_count": 117,
     "metadata": {},
     "output_type": "execute_result"
    }
   ],
   "source": [
    "data.tail()"
   ]
  },
  {
   "cell_type": "code",
   "execution_count": 118,
   "id": "8b8e7703",
   "metadata": {},
   "outputs": [],
   "source": [
    "X_train, X_test, y_train, y_test = train_test_split(data[\"Tweet\"], data[\"Depressive\"]\n",
    "                                                    , test_size=.10\n",
    "                                                    , stratify=data[\"Depressive\"]\n",
    "                                                    , random_state=23)"
   ]
  },
  {
   "cell_type": "code",
   "execution_count": 8,
   "id": "a7e1f095",
   "metadata": {},
   "outputs": [],
   "source": [
    "mnb_classifier = Pipeline([('vect', CountVectorizer()),\n",
    "                      ('clf', MultinomialNB())])"
   ]
  },
  {
   "cell_type": "code",
   "execution_count": 9,
   "id": "fded5101",
   "metadata": {},
   "outputs": [],
   "source": [
    "parameters = {\n",
    "                    'vect__ngram_range': [(1, 1), (1, 2)],\n",
    "                    'vect__max_features': [200000, 500000, 1000000],\n",
    "                    'clf__alpha': (0.05, 1.0, 10, 100, 1000)\n",
    "            }"
   ]
  },
  {
   "cell_type": "code",
   "execution_count": 10,
   "id": "54a25ab5",
   "metadata": {},
   "outputs": [
    {
     "name": "stdout",
     "output_type": "stream",
     "text": [
      "Fitting 5 folds for each of 30 candidates, totalling 150 fits\n",
      "[CV 1/5] END clf__alpha=0.05, vect__max_features=200000, vect__ngram_range=(1, 1);, score=0.821 total time=  10.2s\n",
      "[CV 2/5] END clf__alpha=0.05, vect__max_features=200000, vect__ngram_range=(1, 1);, score=0.819 total time=  11.1s\n",
      "[CV 3/5] END clf__alpha=0.05, vect__max_features=200000, vect__ngram_range=(1, 1);, score=0.818 total time=   9.5s\n",
      "[CV 4/5] END clf__alpha=0.05, vect__max_features=200000, vect__ngram_range=(1, 1);, score=0.820 total time=   9.6s\n",
      "[CV 5/5] END clf__alpha=0.05, vect__max_features=200000, vect__ngram_range=(1, 1);, score=0.818 total time=   9.6s\n",
      "[CV 1/5] END clf__alpha=0.05, vect__max_features=200000, vect__ngram_range=(1, 2);, score=0.828 total time=  28.3s\n",
      "[CV 2/5] END clf__alpha=0.05, vect__max_features=200000, vect__ngram_range=(1, 2);, score=0.825 total time=  28.2s\n",
      "[CV 3/5] END clf__alpha=0.05, vect__max_features=200000, vect__ngram_range=(1, 2);, score=0.825 total time=  28.1s\n",
      "[CV 4/5] END clf__alpha=0.05, vect__max_features=200000, vect__ngram_range=(1, 2);, score=0.827 total time=  28.2s\n",
      "[CV 5/5] END clf__alpha=0.05, vect__max_features=200000, vect__ngram_range=(1, 2);, score=0.825 total time=  28.2s\n",
      "[CV 1/5] END clf__alpha=0.05, vect__max_features=500000, vect__ngram_range=(1, 1);, score=0.821 total time=   9.4s\n",
      "[CV 2/5] END clf__alpha=0.05, vect__max_features=500000, vect__ngram_range=(1, 1);, score=0.819 total time=   9.4s\n",
      "[CV 3/5] END clf__alpha=0.05, vect__max_features=500000, vect__ngram_range=(1, 1);, score=0.818 total time=   9.4s\n",
      "[CV 4/5] END clf__alpha=0.05, vect__max_features=500000, vect__ngram_range=(1, 1);, score=0.820 total time=   9.4s\n",
      "[CV 5/5] END clf__alpha=0.05, vect__max_features=500000, vect__ngram_range=(1, 1);, score=0.818 total time=   9.5s\n",
      "[CV 1/5] END clf__alpha=0.05, vect__max_features=500000, vect__ngram_range=(1, 2);, score=0.829 total time=  28.6s\n",
      "[CV 2/5] END clf__alpha=0.05, vect__max_features=500000, vect__ngram_range=(1, 2);, score=0.825 total time=  28.5s\n",
      "[CV 3/5] END clf__alpha=0.05, vect__max_features=500000, vect__ngram_range=(1, 2);, score=0.827 total time=  30.2s\n",
      "[CV 4/5] END clf__alpha=0.05, vect__max_features=500000, vect__ngram_range=(1, 2);, score=0.828 total time=  28.4s\n",
      "[CV 5/5] END clf__alpha=0.05, vect__max_features=500000, vect__ngram_range=(1, 2);, score=0.826 total time=  28.8s\n",
      "[CV 1/5] END clf__alpha=0.05, vect__max_features=1000000, vect__ngram_range=(1, 1);, score=0.821 total time=   9.3s\n",
      "[CV 2/5] END clf__alpha=0.05, vect__max_features=1000000, vect__ngram_range=(1, 1);, score=0.819 total time=   9.5s\n",
      "[CV 3/5] END clf__alpha=0.05, vect__max_features=1000000, vect__ngram_range=(1, 1);, score=0.818 total time=   9.4s\n",
      "[CV 4/5] END clf__alpha=0.05, vect__max_features=1000000, vect__ngram_range=(1, 1);, score=0.820 total time=   9.3s\n",
      "[CV 5/5] END clf__alpha=0.05, vect__max_features=1000000, vect__ngram_range=(1, 1);, score=0.818 total time=   9.4s\n",
      "[CV 1/5] END clf__alpha=0.05, vect__max_features=1000000, vect__ngram_range=(1, 2);, score=0.829 total time=  28.4s\n",
      "[CV 2/5] END clf__alpha=0.05, vect__max_features=1000000, vect__ngram_range=(1, 2);, score=0.825 total time=  41.5s\n",
      "[CV 3/5] END clf__alpha=0.05, vect__max_features=1000000, vect__ngram_range=(1, 2);, score=0.826 total time=  59.4s\n",
      "[CV 4/5] END clf__alpha=0.05, vect__max_features=1000000, vect__ngram_range=(1, 2);, score=0.828 total time=  58.6s\n",
      "[CV 5/5] END clf__alpha=0.05, vect__max_features=1000000, vect__ngram_range=(1, 2);, score=0.826 total time= 1.0min\n",
      "[CV 1/5] END clf__alpha=1.0, vect__max_features=200000, vect__ngram_range=(1, 1);, score=0.817 total time=  21.5s\n",
      "[CV 2/5] END clf__alpha=1.0, vect__max_features=200000, vect__ngram_range=(1, 1);, score=0.813 total time=  22.1s\n",
      "[CV 3/5] END clf__alpha=1.0, vect__max_features=200000, vect__ngram_range=(1, 1);, score=0.814 total time=  21.6s\n",
      "[CV 4/5] END clf__alpha=1.0, vect__max_features=200000, vect__ngram_range=(1, 1);, score=0.816 total time=  21.7s\n",
      "[CV 5/5] END clf__alpha=1.0, vect__max_features=200000, vect__ngram_range=(1, 1);, score=0.812 total time=  22.0s\n",
      "[CV 1/5] END clf__alpha=1.0, vect__max_features=200000, vect__ngram_range=(1, 2);, score=0.829 total time=  58.0s\n",
      "[CV 2/5] END clf__alpha=1.0, vect__max_features=200000, vect__ngram_range=(1, 2);, score=0.826 total time=  58.4s\n",
      "[CV 3/5] END clf__alpha=1.0, vect__max_features=200000, vect__ngram_range=(1, 2);, score=0.827 total time=  59.8s\n",
      "[CV 4/5] END clf__alpha=1.0, vect__max_features=200000, vect__ngram_range=(1, 2);, score=0.828 total time=  59.0s\n",
      "[CV 5/5] END clf__alpha=1.0, vect__max_features=200000, vect__ngram_range=(1, 2);, score=0.827 total time=  57.9s\n",
      "[CV 1/5] END clf__alpha=1.0, vect__max_features=500000, vect__ngram_range=(1, 1);, score=0.817 total time=  21.6s\n",
      "[CV 2/5] END clf__alpha=1.0, vect__max_features=500000, vect__ngram_range=(1, 1);, score=0.813 total time=  21.7s\n",
      "[CV 3/5] END clf__alpha=1.0, vect__max_features=500000, vect__ngram_range=(1, 1);, score=0.813 total time=  21.6s\n",
      "[CV 4/5] END clf__alpha=1.0, vect__max_features=500000, vect__ngram_range=(1, 1);, score=0.815 total time=  22.6s\n",
      "[CV 5/5] END clf__alpha=1.0, vect__max_features=500000, vect__ngram_range=(1, 1);, score=0.812 total time=  21.6s\n",
      "[CV 1/5] END clf__alpha=1.0, vect__max_features=500000, vect__ngram_range=(1, 2);, score=0.827 total time=  59.0s\n",
      "[CV 2/5] END clf__alpha=1.0, vect__max_features=500000, vect__ngram_range=(1, 2);, score=0.824 total time=  58.1s\n",
      "[CV 3/5] END clf__alpha=1.0, vect__max_features=500000, vect__ngram_range=(1, 2);, score=0.825 total time= 1.0min\n",
      "[CV 4/5] END clf__alpha=1.0, vect__max_features=500000, vect__ngram_range=(1, 2);, score=0.826 total time= 1.0min\n",
      "[CV 5/5] END clf__alpha=1.0, vect__max_features=500000, vect__ngram_range=(1, 2);, score=0.825 total time= 1.1min\n",
      "[CV 1/5] END clf__alpha=1.0, vect__max_features=1000000, vect__ngram_range=(1, 1);, score=0.817 total time=  22.2s\n",
      "[CV 2/5] END clf__alpha=1.0, vect__max_features=1000000, vect__ngram_range=(1, 1);, score=0.813 total time=  21.5s\n",
      "[CV 3/5] END clf__alpha=1.0, vect__max_features=1000000, vect__ngram_range=(1, 1);, score=0.813 total time=  22.0s\n",
      "[CV 4/5] END clf__alpha=1.0, vect__max_features=1000000, vect__ngram_range=(1, 1);, score=0.815 total time=  21.7s\n",
      "[CV 5/5] END clf__alpha=1.0, vect__max_features=1000000, vect__ngram_range=(1, 1);, score=0.812 total time=  21.8s\n",
      "[CV 1/5] END clf__alpha=1.0, vect__max_features=1000000, vect__ngram_range=(1, 2);, score=0.819 total time=  59.5s\n",
      "[CV 2/5] END clf__alpha=1.0, vect__max_features=1000000, vect__ngram_range=(1, 2);, score=0.816 total time=  59.8s\n",
      "[CV 3/5] END clf__alpha=1.0, vect__max_features=1000000, vect__ngram_range=(1, 2);, score=0.818 total time= 1.1min\n",
      "[CV 4/5] END clf__alpha=1.0, vect__max_features=1000000, vect__ngram_range=(1, 2);, score=0.819 total time= 1.0min\n",
      "[CV 5/5] END clf__alpha=1.0, vect__max_features=1000000, vect__ngram_range=(1, 2);, score=0.817 total time= 1.0min\n",
      "[CV 1/5] END clf__alpha=10, vect__max_features=200000, vect__ngram_range=(1, 1);, score=0.731 total time=  21.6s\n",
      "[CV 2/5] END clf__alpha=10, vect__max_features=200000, vect__ngram_range=(1, 1);, score=0.730 total time=  21.7s\n",
      "[CV 3/5] END clf__alpha=10, vect__max_features=200000, vect__ngram_range=(1, 1);, score=0.727 total time=  22.2s\n",
      "[CV 4/5] END clf__alpha=10, vect__max_features=200000, vect__ngram_range=(1, 1);, score=0.730 total time=  21.4s\n",
      "[CV 5/5] END clf__alpha=10, vect__max_features=200000, vect__ngram_range=(1, 1);, score=0.727 total time=  21.5s\n",
      "[CV 1/5] END clf__alpha=10, vect__max_features=200000, vect__ngram_range=(1, 2);, score=0.793 total time=  58.8s\n",
      "[CV 2/5] END clf__alpha=10, vect__max_features=200000, vect__ngram_range=(1, 2);, score=0.791 total time=  58.1s\n",
      "[CV 3/5] END clf__alpha=10, vect__max_features=200000, vect__ngram_range=(1, 2);, score=0.792 total time= 1.0min\n",
      "[CV 4/5] END clf__alpha=10, vect__max_features=200000, vect__ngram_range=(1, 2);, score=0.795 total time=  58.2s\n",
      "[CV 5/5] END clf__alpha=10, vect__max_features=200000, vect__ngram_range=(1, 2);, score=0.790 total time=  58.2s\n",
      "[CV 1/5] END clf__alpha=10, vect__max_features=500000, vect__ngram_range=(1, 1);, score=0.729 total time=  21.4s\n"
     ]
    },
    {
     "name": "stdout",
     "output_type": "stream",
     "text": [
      "[CV 2/5] END clf__alpha=10, vect__max_features=500000, vect__ngram_range=(1, 1);, score=0.728 total time=  21.7s\n",
      "[CV 3/5] END clf__alpha=10, vect__max_features=500000, vect__ngram_range=(1, 1);, score=0.725 total time=  21.5s\n",
      "[CV 4/5] END clf__alpha=10, vect__max_features=500000, vect__ngram_range=(1, 1);, score=0.728 total time=  21.5s\n",
      "[CV 5/5] END clf__alpha=10, vect__max_features=500000, vect__ngram_range=(1, 1);, score=0.725 total time=  21.3s\n",
      "[CV 1/5] END clf__alpha=10, vect__max_features=500000, vect__ngram_range=(1, 2);, score=0.748 total time=  58.8s\n",
      "[CV 2/5] END clf__alpha=10, vect__max_features=500000, vect__ngram_range=(1, 2);, score=0.746 total time=  58.5s\n",
      "[CV 3/5] END clf__alpha=10, vect__max_features=500000, vect__ngram_range=(1, 2);, score=0.745 total time=  58.8s\n",
      "[CV 4/5] END clf__alpha=10, vect__max_features=500000, vect__ngram_range=(1, 2);, score=0.748 total time=  58.6s\n",
      "[CV 5/5] END clf__alpha=10, vect__max_features=500000, vect__ngram_range=(1, 2);, score=0.743 total time=  59.2s\n",
      "[CV 1/5] END clf__alpha=10, vect__max_features=1000000, vect__ngram_range=(1, 1);, score=0.729 total time=  21.4s\n",
      "[CV 2/5] END clf__alpha=10, vect__max_features=1000000, vect__ngram_range=(1, 1);, score=0.728 total time=  22.7s\n",
      "[CV 3/5] END clf__alpha=10, vect__max_features=1000000, vect__ngram_range=(1, 1);, score=0.725 total time=  21.8s\n",
      "[CV 4/5] END clf__alpha=10, vect__max_features=1000000, vect__ngram_range=(1, 1);, score=0.728 total time=  21.5s\n",
      "[CV 5/5] END clf__alpha=10, vect__max_features=1000000, vect__ngram_range=(1, 1);, score=0.725 total time=  21.4s\n",
      "[CV 1/5] END clf__alpha=10, vect__max_features=1000000, vect__ngram_range=(1, 2);, score=0.696 total time=  59.6s\n",
      "[CV 2/5] END clf__alpha=10, vect__max_features=1000000, vect__ngram_range=(1, 2);, score=0.694 total time=  59.1s\n",
      "[CV 3/5] END clf__alpha=10, vect__max_features=1000000, vect__ngram_range=(1, 2);, score=0.697 total time=  58.7s\n",
      "[CV 4/5] END clf__alpha=10, vect__max_features=1000000, vect__ngram_range=(1, 2);, score=0.696 total time= 1.0min\n",
      "[CV 5/5] END clf__alpha=10, vect__max_features=1000000, vect__ngram_range=(1, 2);, score=0.692 total time= 1.0min\n",
      "[CV 1/5] END clf__alpha=100, vect__max_features=200000, vect__ngram_range=(1, 1);, score=0.502 total time=  22.8s\n",
      "[CV 2/5] END clf__alpha=100, vect__max_features=200000, vect__ngram_range=(1, 1);, score=0.501 total time=  21.7s\n",
      "[CV 3/5] END clf__alpha=100, vect__max_features=200000, vect__ngram_range=(1, 1);, score=0.504 total time=  22.1s\n",
      "[CV 4/5] END clf__alpha=100, vect__max_features=200000, vect__ngram_range=(1, 1);, score=0.499 total time=  21.6s\n",
      "[CV 5/5] END clf__alpha=100, vect__max_features=200000, vect__ngram_range=(1, 1);, score=0.498 total time=  21.4s\n",
      "[CV 1/5] END clf__alpha=100, vect__max_features=200000, vect__ngram_range=(1, 2);, score=0.584 total time=  58.4s\n",
      "[CV 2/5] END clf__alpha=100, vect__max_features=200000, vect__ngram_range=(1, 2);, score=0.584 total time=  59.6s\n",
      "[CV 3/5] END clf__alpha=100, vect__max_features=200000, vect__ngram_range=(1, 2);, score=0.586 total time=  59.2s\n",
      "[CV 4/5] END clf__alpha=100, vect__max_features=200000, vect__ngram_range=(1, 2);, score=0.584 total time=  59.1s\n",
      "[CV 5/5] END clf__alpha=100, vect__max_features=200000, vect__ngram_range=(1, 2);, score=0.582 total time=  59.0s\n",
      "[CV 1/5] END clf__alpha=100, vect__max_features=500000, vect__ngram_range=(1, 1);, score=0.500 total time=  21.9s\n",
      "[CV 2/5] END clf__alpha=100, vect__max_features=500000, vect__ngram_range=(1, 1);, score=0.499 total time=  21.2s\n",
      "[CV 3/5] END clf__alpha=100, vect__max_features=500000, vect__ngram_range=(1, 1);, score=0.502 total time=  21.6s\n",
      "[CV 4/5] END clf__alpha=100, vect__max_features=500000, vect__ngram_range=(1, 1);, score=0.498 total time=  21.6s\n",
      "[CV 5/5] END clf__alpha=100, vect__max_features=500000, vect__ngram_range=(1, 1);, score=0.497 total time=  21.5s\n",
      "[CV 1/5] END clf__alpha=100, vect__max_features=500000, vect__ngram_range=(1, 2);, score=0.532 total time=  58.5s\n",
      "[CV 2/5] END clf__alpha=100, vect__max_features=500000, vect__ngram_range=(1, 2);, score=0.532 total time=  58.7s\n",
      "[CV 3/5] END clf__alpha=100, vect__max_features=500000, vect__ngram_range=(1, 2);, score=0.533 total time=  58.9s\n",
      "[CV 4/5] END clf__alpha=100, vect__max_features=500000, vect__ngram_range=(1, 2);, score=0.530 total time=  58.9s\n",
      "[CV 5/5] END clf__alpha=100, vect__max_features=500000, vect__ngram_range=(1, 2);, score=0.529 total time=  52.7s\n",
      "[CV 1/5] END clf__alpha=100, vect__max_features=1000000, vect__ngram_range=(1, 1);, score=0.500 total time=   9.6s\n",
      "[CV 2/5] END clf__alpha=100, vect__max_features=1000000, vect__ngram_range=(1, 1);, score=0.499 total time=   9.8s\n",
      "[CV 3/5] END clf__alpha=100, vect__max_features=1000000, vect__ngram_range=(1, 1);, score=0.502 total time=   9.5s\n",
      "[CV 4/5] END clf__alpha=100, vect__max_features=1000000, vect__ngram_range=(1, 1);, score=0.498 total time=   9.6s\n",
      "[CV 5/5] END clf__alpha=100, vect__max_features=1000000, vect__ngram_range=(1, 1);, score=0.497 total time=   9.5s\n",
      "[CV 1/5] END clf__alpha=100, vect__max_features=1000000, vect__ngram_range=(1, 2);, score=0.509 total time=  28.7s\n",
      "[CV 2/5] END clf__alpha=100, vect__max_features=1000000, vect__ngram_range=(1, 2);, score=0.507 total time=  28.7s\n",
      "[CV 3/5] END clf__alpha=100, vect__max_features=1000000, vect__ngram_range=(1, 2);, score=0.510 total time=  28.9s\n",
      "[CV 4/5] END clf__alpha=100, vect__max_features=1000000, vect__ngram_range=(1, 2);, score=0.506 total time=  28.9s\n",
      "[CV 5/5] END clf__alpha=100, vect__max_features=1000000, vect__ngram_range=(1, 2);, score=0.505 total time=  29.1s\n",
      "[CV 1/5] END clf__alpha=1000, vect__max_features=200000, vect__ngram_range=(1, 1);, score=0.358 total time=   9.5s\n",
      "[CV 2/5] END clf__alpha=1000, vect__max_features=200000, vect__ngram_range=(1, 1);, score=0.356 total time=   9.5s\n",
      "[CV 3/5] END clf__alpha=1000, vect__max_features=200000, vect__ngram_range=(1, 1);, score=0.358 total time=   9.6s\n",
      "[CV 4/5] END clf__alpha=1000, vect__max_features=200000, vect__ngram_range=(1, 1);, score=0.353 total time=   9.6s\n",
      "[CV 5/5] END clf__alpha=1000, vect__max_features=200000, vect__ngram_range=(1, 1);, score=0.351 total time=   9.5s\n",
      "[CV 1/5] END clf__alpha=1000, vect__max_features=200000, vect__ngram_range=(1, 2);, score=0.392 total time=  29.1s\n",
      "[CV 2/5] END clf__alpha=1000, vect__max_features=200000, vect__ngram_range=(1, 2);, score=0.391 total time=  28.9s\n",
      "[CV 3/5] END clf__alpha=1000, vect__max_features=200000, vect__ngram_range=(1, 2);, score=0.392 total time=  28.1s\n",
      "[CV 4/5] END clf__alpha=1000, vect__max_features=200000, vect__ngram_range=(1, 2);, score=0.386 total time=  28.0s\n",
      "[CV 5/5] END clf__alpha=1000, vect__max_features=200000, vect__ngram_range=(1, 2);, score=0.386 total time=  28.1s\n",
      "[CV 1/5] END clf__alpha=1000, vect__max_features=500000, vect__ngram_range=(1, 1);, score=0.358 total time=   9.4s\n",
      "[CV 2/5] END clf__alpha=1000, vect__max_features=500000, vect__ngram_range=(1, 1);, score=0.356 total time=   9.5s\n",
      "[CV 3/5] END clf__alpha=1000, vect__max_features=500000, vect__ngram_range=(1, 1);, score=0.358 total time=   9.4s\n",
      "[CV 4/5] END clf__alpha=1000, vect__max_features=500000, vect__ngram_range=(1, 1);, score=0.353 total time=   9.4s\n",
      "[CV 5/5] END clf__alpha=1000, vect__max_features=500000, vect__ngram_range=(1, 1);, score=0.351 total time=   9.4s\n",
      "[CV 1/5] END clf__alpha=1000, vect__max_features=500000, vect__ngram_range=(1, 2);, score=0.380 total time=  28.2s\n",
      "[CV 2/5] END clf__alpha=1000, vect__max_features=500000, vect__ngram_range=(1, 2);, score=0.379 total time=  28.4s\n",
      "[CV 3/5] END clf__alpha=1000, vect__max_features=500000, vect__ngram_range=(1, 2);, score=0.380 total time=  28.3s\n",
      "[CV 4/5] END clf__alpha=1000, vect__max_features=500000, vect__ngram_range=(1, 2);, score=0.375 total time=  28.3s\n",
      "[CV 5/5] END clf__alpha=1000, vect__max_features=500000, vect__ngram_range=(1, 2);, score=0.374 total time=  28.5s\n",
      "[CV 1/5] END clf__alpha=1000, vect__max_features=1000000, vect__ngram_range=(1, 1);, score=0.358 total time=   9.4s\n",
      "[CV 2/5] END clf__alpha=1000, vect__max_features=1000000, vect__ngram_range=(1, 1);, score=0.356 total time=   9.3s\n",
      "[CV 3/5] END clf__alpha=1000, vect__max_features=1000000, vect__ngram_range=(1, 1);, score=0.358 total time=   9.3s\n"
     ]
    },
    {
     "name": "stdout",
     "output_type": "stream",
     "text": [
      "[CV 4/5] END clf__alpha=1000, vect__max_features=1000000, vect__ngram_range=(1, 1);, score=0.353 total time=   9.4s\n",
      "[CV 5/5] END clf__alpha=1000, vect__max_features=1000000, vect__ngram_range=(1, 1);, score=0.351 total time=   9.4s\n",
      "[CV 1/5] END clf__alpha=1000, vect__max_features=1000000, vect__ngram_range=(1, 2);, score=0.376 total time=  29.0s\n",
      "[CV 2/5] END clf__alpha=1000, vect__max_features=1000000, vect__ngram_range=(1, 2);, score=0.375 total time=  28.8s\n",
      "[CV 3/5] END clf__alpha=1000, vect__max_features=1000000, vect__ngram_range=(1, 2);, score=0.375 total time=  28.9s\n",
      "[CV 4/5] END clf__alpha=1000, vect__max_features=1000000, vect__ngram_range=(1, 2);, score=0.371 total time=  28.6s\n",
      "[CV 5/5] END clf__alpha=1000, vect__max_features=1000000, vect__ngram_range=(1, 2);, score=0.370 total time=  28.8s\n",
      "MNB model training time (mins) :  79.40833715995153\n",
      "\tclf__alpha: 1.0\n",
      "\tvect__max_features: 200000\n",
      "\tvect__ngram_range: (1, 2)\n"
     ]
    }
   ],
   "source": [
    "start = time.time()\n",
    "mnb_gs_clf = GridSearchCV(mnb_classifier, parameters, scoring='recall', cv=5, verbose=3)\n",
    "mnb_gs_clf.fit(X_train, y_train)\n",
    "mnb_time = (time.time()-start) / 60\n",
    "print(\"MNB model training time (mins) : \", mnb_time)\n",
    "\n",
    "best_parameters = mnb_gs_clf.best_estimator_.get_params()\n",
    "\n",
    "for param_name in sorted(parameters.keys()):\n",
    "    print(\"\\t%s: %r\" % (param_name, best_parameters[param_name]))"
   ]
  },
  {
   "cell_type": "code",
   "execution_count": 11,
   "id": "afa5dceb",
   "metadata": {},
   "outputs": [
    {
     "name": "stdout",
     "output_type": "stream",
     "text": [
      "              precision    recall  f1-score   support\n",
      "\n",
      "           0       0.96      0.96      0.96     87616\n",
      "           1       0.83      0.83      0.83     20571\n",
      "\n",
      "    accuracy                           0.94    108187\n",
      "   macro avg       0.90      0.90      0.90    108187\n",
      "weighted avg       0.94      0.94      0.94    108187\n",
      "\n"
     ]
    },
    {
     "data": {
      "image/png": "[encoded data removed]",
      "text/plain": [
       "<Figure size 720x504 with 2 Axes>"
      ]
     },
     "metadata": {},
     "output_type": "display_data"
    }
   ],
   "source": [
    "mnb_gs_clf_pred = pd.Series(model_evaluate(mnb_gs_clf, X_test, y_test))"
   ]
  },
  {
   "cell_type": "code",
   "execution_count": 143,
   "id": "cbd9a3d7",
   "metadata": {},
   "outputs": [
    {
     "data": {
      "text/plain": [
       "CountVectorizer(lowercase=False, max_features=200000, ngram_range=(1, 2))"
      ]
     },
     "execution_count": 143,
     "metadata": {},
     "output_type": "execute_result"
    }
   ],
   "source": [
    "vectorizer = CountVectorizer(ngram_range=(1, 2), max_features=200000, lowercase=False)\n",
    "vectorizer.fit(X_train)"
   ]
  },
  {
   "cell_type": "code",
   "execution_count": 144,
   "id": "b14e33e4",
   "metadata": {},
   "outputs": [
    {
     "data": {
      "text/plain": [
       "200000"
      ]
     },
     "execution_count": 144,
     "metadata": {},
     "output_type": "execute_result"
    }
   ],
   "source": [
    "len(vectorizer.get_feature_names())"
   ]
  },
  {
   "cell_type": "code",
   "execution_count": 145,
   "id": "6d8a152f",
   "metadata": {},
   "outputs": [],
   "source": [
    "val_x = val_data.loc[:, [\"Tweet\"]]\n",
    "val_y = val_data.loc[:, [\"Depressive\"]]"
   ]
  },
  {
   "cell_type": "code",
   "execution_count": 146,
   "id": "9ffc006f",
   "metadata": {},
   "outputs": [
    {
     "data": {
      "text/html": [
       "<div>\n",
       "<style scoped>\n",
       "    .dataframe tbody tr th:only-of-type {\n",
       "        vertical-align: middle;\n",
       "    }\n",
       "\n",
       "    .dataframe tbody tr th {\n",
       "        vertical-align: top;\n",
       "    }\n",
       "\n",
       "    .dataframe thead th {\n",
       "        text-align: right;\n",
       "    }\n",
       "</style>\n",
       "<table border=\"1\" class=\"dataframe\">\n",
       "  <thead>\n",
       "    <tr style=\"text-align: right;\">\n",
       "      <th></th>\n",
       "      <th>Tweet</th>\n",
       "    </tr>\n",
       "  </thead>\n",
       "  <tbody>\n",
       "    <tr>\n",
       "      <th>0</th>\n",
       "      <td>today selfcare beauty amp laugh kung fu panda wellness joy laughter selfcare therapist philadelphia</td>\n",
       "    </tr>\n",
       "    <tr>\n",
       "      <th>1</th>\n",
       "      <td>get spend new year home alone lonely</td>\n",
       "    </tr>\n",
       "    <tr>\n",
       "      <th>2</th>\n",
       "      <td>depressed lonely stuck deep never ending hole sad</td>\n",
       "    </tr>\n",
       "    <tr>\n",
       "      <th>3</th>\n",
       "      <td>response someone saying dealing terrible person</td>\n",
       "    </tr>\n",
       "    <tr>\n",
       "      <th>4</th>\n",
       "      <td>apparently get free pas mentioning free badge day</td>\n",
       "    </tr>\n",
       "  </tbody>\n",
       "</table>\n",
       "</div>"
      ],
      "text/plain": [
       "                                                                                                  Tweet\n",
       "0  today selfcare beauty amp laugh kung fu panda wellness joy laughter selfcare therapist philadelphia \n",
       "1                                                                 get spend new year home alone lonely \n",
       "2                                                    depressed lonely stuck deep never ending hole sad \n",
       "3                                                      response someone saying dealing terrible person \n",
       "4                                                    apparently get free pas mentioning free badge day "
      ]
     },
     "execution_count": 146,
     "metadata": {},
     "output_type": "execute_result"
    }
   ],
   "source": [
    "val_x.head()"
   ]
  },
  {
   "cell_type": "code",
   "execution_count": 147,
   "id": "b9775a1b",
   "metadata": {},
   "outputs": [
    {
     "data": {
      "text/html": [
       "<div>\n",
       "<style scoped>\n",
       "    .dataframe tbody tr th:only-of-type {\n",
       "        vertical-align: middle;\n",
       "    }\n",
       "\n",
       "    .dataframe tbody tr th {\n",
       "        vertical-align: top;\n",
       "    }\n",
       "\n",
       "    .dataframe thead th {\n",
       "        text-align: right;\n",
       "    }\n",
       "</style>\n",
       "<table border=\"1\" class=\"dataframe\">\n",
       "  <thead>\n",
       "    <tr style=\"text-align: right;\">\n",
       "      <th></th>\n",
       "      <th>Depressive</th>\n",
       "    </tr>\n",
       "  </thead>\n",
       "  <tbody>\n",
       "    <tr>\n",
       "      <th>0</th>\n",
       "      <td>0</td>\n",
       "    </tr>\n",
       "    <tr>\n",
       "      <th>1</th>\n",
       "      <td>1</td>\n",
       "    </tr>\n",
       "    <tr>\n",
       "      <th>2</th>\n",
       "      <td>1</td>\n",
       "    </tr>\n",
       "    <tr>\n",
       "      <th>3</th>\n",
       "      <td>0</td>\n",
       "    </tr>\n",
       "    <tr>\n",
       "      <th>4</th>\n",
       "      <td>0</td>\n",
       "    </tr>\n",
       "  </tbody>\n",
       "</table>\n",
       "</div>"
      ],
      "text/plain": [
       "   Depressive\n",
       "0           0\n",
       "1           1\n",
       "2           1\n",
       "3           0\n",
       "4           0"
      ]
     },
     "execution_count": 147,
     "metadata": {},
     "output_type": "execute_result"
    }
   ],
   "source": [
    "val_y.head()"
   ]
  },
  {
   "cell_type": "code",
   "execution_count": 148,
   "id": "4d4af628",
   "metadata": {},
   "outputs": [],
   "source": [
    "X_vec = vectorizer.transform(val_x.Tweet)"
   ]
  },
  {
   "cell_type": "code",
   "execution_count": 149,
   "id": "7bf8ad41",
   "metadata": {},
   "outputs": [
    {
     "data": {
      "text/plain": [
       "(3200, 200000)"
      ]
     },
     "execution_count": 149,
     "metadata": {},
     "output_type": "execute_result"
    }
   ],
   "source": [
    "X_vec.shape"
   ]
  },
  {
   "cell_type": "code",
   "execution_count": 150,
   "id": "42147c63",
   "metadata": {},
   "outputs": [
    {
     "ename": "MemoryError",
     "evalue": "Unable to allocate 4.77 GiB for an array with shape (3200, 200000) and data type int64",
     "output_type": "error",
     "traceback": [
      "\u001b[1;31m---------------------------------------------------------------------------\u001b[0m",
      "\u001b[1;31mMemoryError\u001b[0m                               Traceback (most recent call last)",
      "\u001b[1;32m<ipython-input-150-79439d8ba5f6>\u001b[0m in \u001b[0;36m<module>\u001b[1;34m\u001b[0m\n\u001b[1;32m----> 1\u001b[1;33m \u001b[0mX_vec\u001b[0m \u001b[1;33m=\u001b[0m \u001b[0mpd\u001b[0m\u001b[1;33m.\u001b[0m\u001b[0mDataFrame\u001b[0m\u001b[1;33m(\u001b[0m\u001b[0mX_vec\u001b[0m\u001b[1;33m.\u001b[0m\u001b[0mtoarray\u001b[0m\u001b[1;33m(\u001b[0m\u001b[1;33m)\u001b[0m\u001b[1;33m)\u001b[0m\u001b[1;33m\u001b[0m\u001b[1;33m\u001b[0m\u001b[0m\n\u001b[0m\u001b[0;32m      2\u001b[0m \u001b[0mX_vec\u001b[0m\u001b[1;33m.\u001b[0m\u001b[0mhead\u001b[0m\u001b[1;33m(\u001b[0m\u001b[1;33m)\u001b[0m\u001b[1;33m\u001b[0m\u001b[1;33m\u001b[0m\u001b[0m\n",
      "\u001b[1;32mc:\\users\\hp\\desktop\\be-project\\code\\depression-detection\\venv\\lib\\site-packages\\scipy\\sparse\\compressed.py\u001b[0m in \u001b[0;36mtoarray\u001b[1;34m(self, order, out)\u001b[0m\n\u001b[0;32m   1029\u001b[0m         \u001b[1;32mif\u001b[0m \u001b[0mout\u001b[0m \u001b[1;32mis\u001b[0m \u001b[1;32mNone\u001b[0m \u001b[1;32mand\u001b[0m \u001b[0morder\u001b[0m \u001b[1;32mis\u001b[0m \u001b[1;32mNone\u001b[0m\u001b[1;33m:\u001b[0m\u001b[1;33m\u001b[0m\u001b[1;33m\u001b[0m\u001b[0m\n\u001b[0;32m   1030\u001b[0m             \u001b[0morder\u001b[0m \u001b[1;33m=\u001b[0m \u001b[0mself\u001b[0m\u001b[1;33m.\u001b[0m\u001b[0m_swap\u001b[0m\u001b[1;33m(\u001b[0m\u001b[1;34m'cf'\u001b[0m\u001b[1;33m)\u001b[0m\u001b[1;33m[\u001b[0m\u001b[1;36m0\u001b[0m\u001b[1;33m]\u001b[0m\u001b[1;33m\u001b[0m\u001b[1;33m\u001b[0m\u001b[0m\n\u001b[1;32m-> 1031\u001b[1;33m         \u001b[0mout\u001b[0m \u001b[1;33m=\u001b[0m \u001b[0mself\u001b[0m\u001b[1;33m.\u001b[0m\u001b[0m_process_toarray_args\u001b[0m\u001b[1;33m(\u001b[0m\u001b[0morder\u001b[0m\u001b[1;33m,\u001b[0m \u001b[0mout\u001b[0m\u001b[1;33m)\u001b[0m\u001b[1;33m\u001b[0m\u001b[1;33m\u001b[0m\u001b[0m\n\u001b[0m\u001b[0;32m   1032\u001b[0m         \u001b[1;32mif\u001b[0m \u001b[1;32mnot\u001b[0m \u001b[1;33m(\u001b[0m\u001b[0mout\u001b[0m\u001b[1;33m.\u001b[0m\u001b[0mflags\u001b[0m\u001b[1;33m.\u001b[0m\u001b[0mc_contiguous\u001b[0m \u001b[1;32mor\u001b[0m \u001b[0mout\u001b[0m\u001b[1;33m.\u001b[0m\u001b[0mflags\u001b[0m\u001b[1;33m.\u001b[0m\u001b[0mf_contiguous\u001b[0m\u001b[1;33m)\u001b[0m\u001b[1;33m:\u001b[0m\u001b[1;33m\u001b[0m\u001b[1;33m\u001b[0m\u001b[0m\n\u001b[0;32m   1033\u001b[0m             \u001b[1;32mraise\u001b[0m \u001b[0mValueError\u001b[0m\u001b[1;33m(\u001b[0m\u001b[1;34m'Output array must be C or F contiguous'\u001b[0m\u001b[1;33m)\u001b[0m\u001b[1;33m\u001b[0m\u001b[1;33m\u001b[0m\u001b[0m\n",
      "\u001b[1;32mc:\\users\\hp\\desktop\\be-project\\code\\depression-detection\\venv\\lib\\site-packages\\scipy\\sparse\\base.py\u001b[0m in \u001b[0;36m_process_toarray_args\u001b[1;34m(self, order, out)\u001b[0m\n\u001b[0;32m   1200\u001b[0m             \u001b[1;32mreturn\u001b[0m \u001b[0mout\u001b[0m\u001b[1;33m\u001b[0m\u001b[1;33m\u001b[0m\u001b[0m\n\u001b[0;32m   1201\u001b[0m         \u001b[1;32melse\u001b[0m\u001b[1;33m:\u001b[0m\u001b[1;33m\u001b[0m\u001b[1;33m\u001b[0m\u001b[0m\n\u001b[1;32m-> 1202\u001b[1;33m             \u001b[1;32mreturn\u001b[0m \u001b[0mnp\u001b[0m\u001b[1;33m.\u001b[0m\u001b[0mzeros\u001b[0m\u001b[1;33m(\u001b[0m\u001b[0mself\u001b[0m\u001b[1;33m.\u001b[0m\u001b[0mshape\u001b[0m\u001b[1;33m,\u001b[0m \u001b[0mdtype\u001b[0m\u001b[1;33m=\u001b[0m\u001b[0mself\u001b[0m\u001b[1;33m.\u001b[0m\u001b[0mdtype\u001b[0m\u001b[1;33m,\u001b[0m \u001b[0morder\u001b[0m\u001b[1;33m=\u001b[0m\u001b[0morder\u001b[0m\u001b[1;33m)\u001b[0m\u001b[1;33m\u001b[0m\u001b[1;33m\u001b[0m\u001b[0m\n\u001b[0m\u001b[0;32m   1203\u001b[0m \u001b[1;33m\u001b[0m\u001b[0m\n\u001b[0;32m   1204\u001b[0m \u001b[1;33m\u001b[0m\u001b[0m\n",
      "\u001b[1;31mMemoryError\u001b[0m: Unable to allocate 4.77 GiB for an array with shape (3200, 200000) and data type int64"
     ]
    }
   ],
   "source": [
    "X_vec = pd.DataFrame(X_vec.toarray())\n",
    "X_vec.head()"
   ]
  },
  {
   "cell_type": "code",
   "execution_count": 129,
   "id": "a27a32fd",
   "metadata": {},
   "outputs": [
    {
     "ename": "AttributeError",
     "evalue": "'int' object has no attribute 'lower'",
     "output_type": "error",
     "traceback": [
      "\u001b[1;31m---------------------------------------------------------------------------\u001b[0m",
      "\u001b[1;31mAttributeError\u001b[0m                            Traceback (most recent call last)",
      "\u001b[1;32m<ipython-input-129-64afe1732362>\u001b[0m in \u001b[0;36m<module>\u001b[1;34m\u001b[0m\n\u001b[1;32m----> 1\u001b[1;33m \u001b[0mmnb_pred_val\u001b[0m \u001b[1;33m=\u001b[0m \u001b[0mpd\u001b[0m\u001b[1;33m.\u001b[0m\u001b[0mSeries\u001b[0m\u001b[1;33m(\u001b[0m\u001b[0mmodel_evaluate\u001b[0m\u001b[1;33m(\u001b[0m\u001b[0mmnb_gs_clf\u001b[0m\u001b[1;33m,\u001b[0m \u001b[0mX_vec\u001b[0m\u001b[1;33m,\u001b[0m \u001b[0mval_y\u001b[0m\u001b[1;33m)\u001b[0m\u001b[1;33m)\u001b[0m\u001b[1;33m\u001b[0m\u001b[1;33m\u001b[0m\u001b[0m\n\u001b[0m",
      "\u001b[1;32m~\\Desktop\\BE-Project\\Code\\Depression-Detection\\src\\model\\utility_functions.py\u001b[0m in \u001b[0;36mmodel_evaluate\u001b[1;34m(model, X_test, y_test)\u001b[0m\n\u001b[0;32m    155\u001b[0m \u001b[1;33m\u001b[0m\u001b[0m\n\u001b[0;32m    156\u001b[0m     \u001b[1;31m# Predict values for Test dataset\u001b[0m\u001b[1;33m\u001b[0m\u001b[1;33m\u001b[0m\u001b[1;33m\u001b[0m\u001b[0m\n\u001b[1;32m--> 157\u001b[1;33m     \u001b[0my_pred\u001b[0m \u001b[1;33m=\u001b[0m \u001b[0mmodel\u001b[0m\u001b[1;33m.\u001b[0m\u001b[0mpredict\u001b[0m\u001b[1;33m(\u001b[0m\u001b[0mX_test\u001b[0m\u001b[1;33m)\u001b[0m\u001b[1;33m\u001b[0m\u001b[1;33m\u001b[0m\u001b[0m\n\u001b[0m\u001b[0;32m    158\u001b[0m \u001b[1;33m\u001b[0m\u001b[0m\n\u001b[0;32m    159\u001b[0m     \u001b[1;31m# Print the evaluation metrics for the dataset.\u001b[0m\u001b[1;33m\u001b[0m\u001b[1;33m\u001b[0m\u001b[1;33m\u001b[0m\u001b[0m\n",
      "\u001b[1;32mc:\\users\\hp\\desktop\\be-project\\code\\depression-detection\\venv\\lib\\site-packages\\sklearn\\utils\\metaestimators.py\u001b[0m in \u001b[0;36m<lambda>\u001b[1;34m(*args, **kwargs)\u001b[0m\n\u001b[0;32m    118\u001b[0m \u001b[1;33m\u001b[0m\u001b[0m\n\u001b[0;32m    119\u001b[0m         \u001b[1;31m# lambda, but not partial, allows help() to work with update_wrapper\u001b[0m\u001b[1;33m\u001b[0m\u001b[1;33m\u001b[0m\u001b[1;33m\u001b[0m\u001b[0m\n\u001b[1;32m--> 120\u001b[1;33m         \u001b[0mout\u001b[0m \u001b[1;33m=\u001b[0m \u001b[1;32mlambda\u001b[0m \u001b[1;33m*\u001b[0m\u001b[0margs\u001b[0m\u001b[1;33m,\u001b[0m \u001b[1;33m**\u001b[0m\u001b[0mkwargs\u001b[0m\u001b[1;33m:\u001b[0m \u001b[0mself\u001b[0m\u001b[1;33m.\u001b[0m\u001b[0mfn\u001b[0m\u001b[1;33m(\u001b[0m\u001b[0mobj\u001b[0m\u001b[1;33m,\u001b[0m \u001b[1;33m*\u001b[0m\u001b[0margs\u001b[0m\u001b[1;33m,\u001b[0m \u001b[1;33m**\u001b[0m\u001b[0mkwargs\u001b[0m\u001b[1;33m)\u001b[0m\u001b[1;33m\u001b[0m\u001b[1;33m\u001b[0m\u001b[0m\n\u001b[0m\u001b[0;32m    121\u001b[0m         \u001b[1;31m# update the docstring of the returned function\u001b[0m\u001b[1;33m\u001b[0m\u001b[1;33m\u001b[0m\u001b[1;33m\u001b[0m\u001b[0m\n\u001b[0;32m    122\u001b[0m         \u001b[0mupdate_wrapper\u001b[0m\u001b[1;33m(\u001b[0m\u001b[0mout\u001b[0m\u001b[1;33m,\u001b[0m \u001b[0mself\u001b[0m\u001b[1;33m.\u001b[0m\u001b[0mfn\u001b[0m\u001b[1;33m)\u001b[0m\u001b[1;33m\u001b[0m\u001b[1;33m\u001b[0m\u001b[0m\n",
      "\u001b[1;32mc:\\users\\hp\\desktop\\be-project\\code\\depression-detection\\venv\\lib\\site-packages\\sklearn\\model_selection\\_search.py\u001b[0m in \u001b[0;36mpredict\u001b[1;34m(self, X)\u001b[0m\n\u001b[0;32m    538\u001b[0m         \"\"\"\n\u001b[0;32m    539\u001b[0m         \u001b[0mself\u001b[0m\u001b[1;33m.\u001b[0m\u001b[0m_check_is_fitted\u001b[0m\u001b[1;33m(\u001b[0m\u001b[1;34m'predict'\u001b[0m\u001b[1;33m)\u001b[0m\u001b[1;33m\u001b[0m\u001b[1;33m\u001b[0m\u001b[0m\n\u001b[1;32m--> 540\u001b[1;33m         \u001b[1;32mreturn\u001b[0m \u001b[0mself\u001b[0m\u001b[1;33m.\u001b[0m\u001b[0mbest_estimator_\u001b[0m\u001b[1;33m.\u001b[0m\u001b[0mpredict\u001b[0m\u001b[1;33m(\u001b[0m\u001b[0mX\u001b[0m\u001b[1;33m)\u001b[0m\u001b[1;33m\u001b[0m\u001b[1;33m\u001b[0m\u001b[0m\n\u001b[0m\u001b[0;32m    541\u001b[0m \u001b[1;33m\u001b[0m\u001b[0m\n\u001b[0;32m    542\u001b[0m     \u001b[1;33m@\u001b[0m\u001b[0mif_delegate_has_method\u001b[0m\u001b[1;33m(\u001b[0m\u001b[0mdelegate\u001b[0m\u001b[1;33m=\u001b[0m\u001b[1;33m(\u001b[0m\u001b[1;34m'best_estimator_'\u001b[0m\u001b[1;33m,\u001b[0m \u001b[1;34m'estimator'\u001b[0m\u001b[1;33m)\u001b[0m\u001b[1;33m)\u001b[0m\u001b[1;33m\u001b[0m\u001b[1;33m\u001b[0m\u001b[0m\n",
      "\u001b[1;32mc:\\users\\hp\\desktop\\be-project\\code\\depression-detection\\venv\\lib\\site-packages\\sklearn\\utils\\metaestimators.py\u001b[0m in \u001b[0;36m<lambda>\u001b[1;34m(*args, **kwargs)\u001b[0m\n\u001b[0;32m    118\u001b[0m \u001b[1;33m\u001b[0m\u001b[0m\n\u001b[0;32m    119\u001b[0m         \u001b[1;31m# lambda, but not partial, allows help() to work with update_wrapper\u001b[0m\u001b[1;33m\u001b[0m\u001b[1;33m\u001b[0m\u001b[1;33m\u001b[0m\u001b[0m\n\u001b[1;32m--> 120\u001b[1;33m         \u001b[0mout\u001b[0m \u001b[1;33m=\u001b[0m \u001b[1;32mlambda\u001b[0m \u001b[1;33m*\u001b[0m\u001b[0margs\u001b[0m\u001b[1;33m,\u001b[0m \u001b[1;33m**\u001b[0m\u001b[0mkwargs\u001b[0m\u001b[1;33m:\u001b[0m \u001b[0mself\u001b[0m\u001b[1;33m.\u001b[0m\u001b[0mfn\u001b[0m\u001b[1;33m(\u001b[0m\u001b[0mobj\u001b[0m\u001b[1;33m,\u001b[0m \u001b[1;33m*\u001b[0m\u001b[0margs\u001b[0m\u001b[1;33m,\u001b[0m \u001b[1;33m**\u001b[0m\u001b[0mkwargs\u001b[0m\u001b[1;33m)\u001b[0m\u001b[1;33m\u001b[0m\u001b[1;33m\u001b[0m\u001b[0m\n\u001b[0m\u001b[0;32m    121\u001b[0m         \u001b[1;31m# update the docstring of the returned function\u001b[0m\u001b[1;33m\u001b[0m\u001b[1;33m\u001b[0m\u001b[1;33m\u001b[0m\u001b[0m\n\u001b[0;32m    122\u001b[0m         \u001b[0mupdate_wrapper\u001b[0m\u001b[1;33m(\u001b[0m\u001b[0mout\u001b[0m\u001b[1;33m,\u001b[0m \u001b[0mself\u001b[0m\u001b[1;33m.\u001b[0m\u001b[0mfn\u001b[0m\u001b[1;33m)\u001b[0m\u001b[1;33m\u001b[0m\u001b[1;33m\u001b[0m\u001b[0m\n",
      "\u001b[1;32mc:\\users\\hp\\desktop\\be-project\\code\\depression-detection\\venv\\lib\\site-packages\\sklearn\\pipeline.py\u001b[0m in \u001b[0;36mpredict\u001b[1;34m(self, X, **predict_params)\u001b[0m\n\u001b[0;32m    416\u001b[0m         \u001b[0mXt\u001b[0m \u001b[1;33m=\u001b[0m \u001b[0mX\u001b[0m\u001b[1;33m\u001b[0m\u001b[1;33m\u001b[0m\u001b[0m\n\u001b[0;32m    417\u001b[0m         \u001b[1;32mfor\u001b[0m \u001b[0m_\u001b[0m\u001b[1;33m,\u001b[0m \u001b[0mname\u001b[0m\u001b[1;33m,\u001b[0m \u001b[0mtransform\u001b[0m \u001b[1;32min\u001b[0m \u001b[0mself\u001b[0m\u001b[1;33m.\u001b[0m\u001b[0m_iter\u001b[0m\u001b[1;33m(\u001b[0m\u001b[0mwith_final\u001b[0m\u001b[1;33m=\u001b[0m\u001b[1;32mFalse\u001b[0m\u001b[1;33m)\u001b[0m\u001b[1;33m:\u001b[0m\u001b[1;33m\u001b[0m\u001b[1;33m\u001b[0m\u001b[0m\n\u001b[1;32m--> 418\u001b[1;33m             \u001b[0mXt\u001b[0m \u001b[1;33m=\u001b[0m \u001b[0mtransform\u001b[0m\u001b[1;33m.\u001b[0m\u001b[0mtransform\u001b[0m\u001b[1;33m(\u001b[0m\u001b[0mXt\u001b[0m\u001b[1;33m)\u001b[0m\u001b[1;33m\u001b[0m\u001b[1;33m\u001b[0m\u001b[0m\n\u001b[0m\u001b[0;32m    419\u001b[0m         \u001b[1;32mreturn\u001b[0m \u001b[0mself\u001b[0m\u001b[1;33m.\u001b[0m\u001b[0msteps\u001b[0m\u001b[1;33m[\u001b[0m\u001b[1;33m-\u001b[0m\u001b[1;36m1\u001b[0m\u001b[1;33m]\u001b[0m\u001b[1;33m[\u001b[0m\u001b[1;33m-\u001b[0m\u001b[1;36m1\u001b[0m\u001b[1;33m]\u001b[0m\u001b[1;33m.\u001b[0m\u001b[0mpredict\u001b[0m\u001b[1;33m(\u001b[0m\u001b[0mXt\u001b[0m\u001b[1;33m,\u001b[0m \u001b[1;33m**\u001b[0m\u001b[0mpredict_params\u001b[0m\u001b[1;33m)\u001b[0m\u001b[1;33m\u001b[0m\u001b[1;33m\u001b[0m\u001b[0m\n\u001b[0;32m    420\u001b[0m \u001b[1;33m\u001b[0m\u001b[0m\n",
      "\u001b[1;32mc:\\users\\hp\\desktop\\be-project\\code\\depression-detection\\venv\\lib\\site-packages\\sklearn\\feature_extraction\\text.py\u001b[0m in \u001b[0;36mtransform\u001b[1;34m(self, raw_documents)\u001b[0m\n\u001b[0;32m   1252\u001b[0m \u001b[1;33m\u001b[0m\u001b[0m\n\u001b[0;32m   1253\u001b[0m         \u001b[1;31m# use the same matrix-building strategy as fit_transform\u001b[0m\u001b[1;33m\u001b[0m\u001b[1;33m\u001b[0m\u001b[1;33m\u001b[0m\u001b[0m\n\u001b[1;32m-> 1254\u001b[1;33m         \u001b[0m_\u001b[0m\u001b[1;33m,\u001b[0m \u001b[0mX\u001b[0m \u001b[1;33m=\u001b[0m \u001b[0mself\u001b[0m\u001b[1;33m.\u001b[0m\u001b[0m_count_vocab\u001b[0m\u001b[1;33m(\u001b[0m\u001b[0mraw_documents\u001b[0m\u001b[1;33m,\u001b[0m \u001b[0mfixed_vocab\u001b[0m\u001b[1;33m=\u001b[0m\u001b[1;32mTrue\u001b[0m\u001b[1;33m)\u001b[0m\u001b[1;33m\u001b[0m\u001b[1;33m\u001b[0m\u001b[0m\n\u001b[0m\u001b[0;32m   1255\u001b[0m         \u001b[1;32mif\u001b[0m \u001b[0mself\u001b[0m\u001b[1;33m.\u001b[0m\u001b[0mbinary\u001b[0m\u001b[1;33m:\u001b[0m\u001b[1;33m\u001b[0m\u001b[1;33m\u001b[0m\u001b[0m\n\u001b[0;32m   1256\u001b[0m             \u001b[0mX\u001b[0m\u001b[1;33m.\u001b[0m\u001b[0mdata\u001b[0m\u001b[1;33m.\u001b[0m\u001b[0mfill\u001b[0m\u001b[1;33m(\u001b[0m\u001b[1;36m1\u001b[0m\u001b[1;33m)\u001b[0m\u001b[1;33m\u001b[0m\u001b[1;33m\u001b[0m\u001b[0m\n",
      "\u001b[1;32mc:\\users\\hp\\desktop\\be-project\\code\\depression-detection\\venv\\lib\\site-packages\\sklearn\\feature_extraction\\text.py\u001b[0m in \u001b[0;36m_count_vocab\u001b[1;34m(self, raw_documents, fixed_vocab)\u001b[0m\n\u001b[0;32m   1112\u001b[0m         \u001b[1;32mfor\u001b[0m \u001b[0mdoc\u001b[0m \u001b[1;32min\u001b[0m \u001b[0mraw_documents\u001b[0m\u001b[1;33m:\u001b[0m\u001b[1;33m\u001b[0m\u001b[1;33m\u001b[0m\u001b[0m\n\u001b[0;32m   1113\u001b[0m             \u001b[0mfeature_counter\u001b[0m \u001b[1;33m=\u001b[0m \u001b[1;33m{\u001b[0m\u001b[1;33m}\u001b[0m\u001b[1;33m\u001b[0m\u001b[1;33m\u001b[0m\u001b[0m\n\u001b[1;32m-> 1114\u001b[1;33m             \u001b[1;32mfor\u001b[0m \u001b[0mfeature\u001b[0m \u001b[1;32min\u001b[0m \u001b[0manalyze\u001b[0m\u001b[1;33m(\u001b[0m\u001b[0mdoc\u001b[0m\u001b[1;33m)\u001b[0m\u001b[1;33m:\u001b[0m\u001b[1;33m\u001b[0m\u001b[1;33m\u001b[0m\u001b[0m\n\u001b[0m\u001b[0;32m   1115\u001b[0m                 \u001b[1;32mtry\u001b[0m\u001b[1;33m:\u001b[0m\u001b[1;33m\u001b[0m\u001b[1;33m\u001b[0m\u001b[0m\n\u001b[0;32m   1116\u001b[0m                     \u001b[0mfeature_idx\u001b[0m \u001b[1;33m=\u001b[0m \u001b[0mvocabulary\u001b[0m\u001b[1;33m[\u001b[0m\u001b[0mfeature\u001b[0m\u001b[1;33m]\u001b[0m\u001b[1;33m\u001b[0m\u001b[1;33m\u001b[0m\u001b[0m\n",
      "\u001b[1;32mc:\\users\\hp\\desktop\\be-project\\code\\depression-detection\\venv\\lib\\site-packages\\sklearn\\feature_extraction\\text.py\u001b[0m in \u001b[0;36m_analyze\u001b[1;34m(doc, analyzer, tokenizer, ngrams, preprocessor, decoder, stop_words)\u001b[0m\n\u001b[0;32m    102\u001b[0m     \u001b[1;32melse\u001b[0m\u001b[1;33m:\u001b[0m\u001b[1;33m\u001b[0m\u001b[1;33m\u001b[0m\u001b[0m\n\u001b[0;32m    103\u001b[0m         \u001b[1;32mif\u001b[0m \u001b[0mpreprocessor\u001b[0m \u001b[1;32mis\u001b[0m \u001b[1;32mnot\u001b[0m \u001b[1;32mNone\u001b[0m\u001b[1;33m:\u001b[0m\u001b[1;33m\u001b[0m\u001b[1;33m\u001b[0m\u001b[0m\n\u001b[1;32m--> 104\u001b[1;33m             \u001b[0mdoc\u001b[0m \u001b[1;33m=\u001b[0m \u001b[0mpreprocessor\u001b[0m\u001b[1;33m(\u001b[0m\u001b[0mdoc\u001b[0m\u001b[1;33m)\u001b[0m\u001b[1;33m\u001b[0m\u001b[1;33m\u001b[0m\u001b[0m\n\u001b[0m\u001b[0;32m    105\u001b[0m         \u001b[1;32mif\u001b[0m \u001b[0mtokenizer\u001b[0m \u001b[1;32mis\u001b[0m \u001b[1;32mnot\u001b[0m \u001b[1;32mNone\u001b[0m\u001b[1;33m:\u001b[0m\u001b[1;33m\u001b[0m\u001b[1;33m\u001b[0m\u001b[0m\n\u001b[0;32m    106\u001b[0m             \u001b[0mdoc\u001b[0m \u001b[1;33m=\u001b[0m \u001b[0mtokenizer\u001b[0m\u001b[1;33m(\u001b[0m\u001b[0mdoc\u001b[0m\u001b[1;33m)\u001b[0m\u001b[1;33m\u001b[0m\u001b[1;33m\u001b[0m\u001b[0m\n",
      "\u001b[1;32mc:\\users\\hp\\desktop\\be-project\\code\\depression-detection\\venv\\lib\\site-packages\\sklearn\\feature_extraction\\text.py\u001b[0m in \u001b[0;36m_preprocess\u001b[1;34m(doc, accent_function, lower)\u001b[0m\n\u001b[0;32m     67\u001b[0m     \"\"\"\n\u001b[0;32m     68\u001b[0m     \u001b[1;32mif\u001b[0m \u001b[0mlower\u001b[0m\u001b[1;33m:\u001b[0m\u001b[1;33m\u001b[0m\u001b[1;33m\u001b[0m\u001b[0m\n\u001b[1;32m---> 69\u001b[1;33m         \u001b[0mdoc\u001b[0m \u001b[1;33m=\u001b[0m \u001b[0mdoc\u001b[0m\u001b[1;33m.\u001b[0m\u001b[0mlower\u001b[0m\u001b[1;33m(\u001b[0m\u001b[1;33m)\u001b[0m\u001b[1;33m\u001b[0m\u001b[1;33m\u001b[0m\u001b[0m\n\u001b[0m\u001b[0;32m     70\u001b[0m     \u001b[1;32mif\u001b[0m \u001b[0maccent_function\u001b[0m \u001b[1;32mis\u001b[0m \u001b[1;32mnot\u001b[0m \u001b[1;32mNone\u001b[0m\u001b[1;33m:\u001b[0m\u001b[1;33m\u001b[0m\u001b[1;33m\u001b[0m\u001b[0m\n\u001b[0;32m     71\u001b[0m         \u001b[0mdoc\u001b[0m \u001b[1;33m=\u001b[0m \u001b[0maccent_function\u001b[0m\u001b[1;33m(\u001b[0m\u001b[0mdoc\u001b[0m\u001b[1;33m)\u001b[0m\u001b[1;33m\u001b[0m\u001b[1;33m\u001b[0m\u001b[0m\n",
      "\u001b[1;31mAttributeError\u001b[0m: 'int' object has no attribute 'lower'"
     ]
    }
   ],
   "source": [
    "mnb_pred_val = pd.Series(model_evaluate(mnb_gs_clf, X_vec, val_y))"
   ]
  },
  {
   "cell_type": "code",
   "execution_count": null,
   "id": "862d1979",
   "metadata": {},
   "outputs": [],
   "source": []
  }
 ],
 "metadata": {
  "kernelspec": {
   "display_name": "Python 3",
   "language": "python",
   "name": "python3"
  },
  "language_info": {
   "codemirror_mode": {
    "name": "ipython",
    "version": 3
   },
   "file_extension": ".py",
   "mimetype": "text/x-python",
   "name": "python",
   "nbconvert_exporter": "python",
   "pygments_lexer": "ipython3",
   "version": "3.7.8"
  }
 },
 "nbformat": 4,
 "nbformat_minor": 5
}
