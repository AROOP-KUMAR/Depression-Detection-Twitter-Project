{
 "cells": [
  {
   "cell_type": "code",
   "execution_count": null,
   "id": "3e02480b",
   "metadata": {},
   "outputs": [],
   "source": [
    "import os\n",
    "import tweepy\n",
    "import pandas as pd\n",
    "from dotenv import load_dotenv\n",
    "from tweepy import OAuthHandler\n",
    "from tweepy.streaming import StreamListener"
   ]
  },
  {
   "cell_type": "code",
   "execution_count": null,
   "id": "b790c171",
   "metadata": {},
   "outputs": [],
   "source": [
    "# Load credentials from .env file\n",
    "load_dotenv()"
   ]
  },
  {
   "cell_type": "code",
   "execution_count": null,
   "id": "cc2438fc",
   "metadata": {},
   "outputs": [],
   "source": [
    "print(type(os.getenv(\"CONSUMER_KEY')))"
   ]
  },
  {
   "cell_type": "code",
   "execution_count": null,
   "id": "6dd1bdc8",
   "metadata": {},
   "outputs": [],
   "source": [
    "## Authenication\n",
    "auth = tweepy.OAuthHandler(os.getenv('CONSUMER_KEY'), os.getenv('CONSUMER_SECRET'))\n",
    "auth.set_access_token(os.getenv('ACCESS_TOKEN'), os.getenv('ACCESS_TOKEN_SECRET'))\n",
    "api = tweepy.API(auth)"
   ]
  },
  {
   "cell_type": "code",
   "execution_count": null,
   "id": "ce3aebba",
   "metadata": {},
   "outputs": [],
   "source": [
    "## Depressive Lexicon\n",
    "depressive_words = [\"depression\", \"depressed\", \"lonely\", \"alone\", \"sad\", \"very sad\", \"sorrow\"\n",
    "                    , \"not happy\", \"no joy\", \"anxiety\", \"suicide\", \"suicidal\", \"mental health\", \"antidepressants\"\n",
    "                    , \"hopeless\", \"disorder\", \"sleepless\", \"I am depressed\"]"
   ]
  },
  {
   "cell_type": "code",
   "execution_count": null,
   "id": "56a0457d",
   "metadata": {},
   "outputs": [],
   "source": [
    "def scrape_tweets(search_words, num_of_tweets):\n",
    "    ## Use tweepy Cursor for scraping\n",
    "    tweets = tweepy.Cursor(\n",
    "                            api.search,\n",
    "                            q = search_words,\n",
    "                            lang=\"en\"\n",
    "                            ).items(num_of_tweets)\n",
    "    \n",
    "    ## Save tweet text in a list\n",
    "    tweet_text_list = [tweet.text for tweet in tweets]\n",
    "    \n",
    "    return tweet_text_list"
   ]
  },
  {
   "cell_type": "code",
   "execution_count": null,
   "id": "37f88495",
   "metadata": {},
   "outputs": [],
   "source": [
    "result_list = []\n",
    "for word in depressive_words:\n",
    "    tweet_text = scrape_tweets(word + \" -filter:retweets\", 200)\n",
    "    result_list.extend(tweet_text)\n",
    "    print(f\"{word} : scraped successfully\")"
   ]
  },
  {
   "cell_type": "code",
   "execution_count": null,
   "id": "a7a329ee",
   "metadata": {},
   "outputs": [],
   "source": [
    "print(f\"No. of Tweets scraped : {len(result_list)}\")\n",
    "\n",
    "for tweet in result_list:\n",
    "    print(tweet + \"\\n\")"
   ]
  },
  {
   "cell_type": "code",
   "execution_count": null,
   "id": "97bb76b4",
   "metadata": {},
   "outputs": [],
   "source": [
    "df = pd.DataFrame(result_list, columns=[\"Tweet\"])\n",
    "df[\"Depressive\"] = 1\n",
    "df.head()"
   ]
  },
  {
   "cell_type": "code",
   "execution_count": null,
   "id": "25e0188f",
   "metadata": {},
   "outputs": [],
   "source": [
    "df.drop_duplicates(subset=['Tweet'])"
   ]
  },
  {
   "cell_type": "code",
   "execution_count": null,
   "id": "6c29fb31",
   "metadata": {},
   "outputs": [],
   "source": [
    "df.to_csv(\"data/tweepy/keyword_scraped_tweets.csv\")"
   ]
  },
  {
   "cell_type": "code",
   "execution_count": null,
   "id": "ccb3c2f5",
   "metadata": {},
   "outputs": [],
   "source": [
    "depressive_hashtags = [\"#depression\", \"#suicide\", \"#anxiety\", \"#depressionrecovery\", \"#suicideawareness\", \"#recoveryisworthit\", \"#mentalhealth\"]"
   ]
  },
  {
   "cell_type": "code",
   "execution_count": null,
   "id": "99e4ba8c",
   "metadata": {},
   "outputs": [],
   "source": [
    "result_list = []\n",
    "for word in depressive_hashtags:\n",
    "    tweet_text = scrape_tweets(word + \" -filter:retweets\", 200)\n",
    "    result_list.extend(tweet_text)\n",
    "    print(f\"{word} : scraped successfully\")"
   ]
  },
  {
   "cell_type": "code",
   "execution_count": null,
   "id": "b23f5fb0",
   "metadata": {},
   "outputs": [],
   "source": [
    "print(f\"No. of Tweets scraped : {len(result_list)}\")\n",
    "\n",
    "for tweet in result_list:\n",
    "    print(tweet + \"\\n\")"
   ]
  },
  {
   "cell_type": "code",
   "execution_count": null,
   "id": "188e0280",
   "metadata": {},
   "outputs": [],
   "source": [
    "df_h = pd.DataFrame(result_list, columns=[\"Tweet\"])\n",
    "df_h[\"Depressive\"] = 1\n",
    "df_h.head()"
   ]
  },
  {
   "cell_type": "code",
   "execution_count": null,
   "id": "2df18fa5",
   "metadata": {},
   "outputs": [],
   "source": [
    "df_h.drop_duplicates(subset=['Tweet'])"
   ]
  },
  {
   "cell_type": "code",
   "execution_count": null,
   "id": "2ce2ba36",
   "metadata": {},
   "outputs": [],
   "source": [
    "df_h.to_csv(\"data/tweepy/hashtags_scraped_tweets.csv\")"
   ]
  },
  {
   "cell_type": "code",
   "execution_count": null,
   "id": "fbd0d5de",
   "metadata": {},
   "outputs": [],
   "source": []
  }
 ],
 "metadata": {
  "kernelspec": {
   "display_name": "Python 3",
   "language": "python",
   "name": "python3"
  },
  "language_info": {
   "codemirror_mode": {
    "name": "ipython",
    "version": 3
   },
   "file_extension": ".py",
   "mimetype": "text/x-python",
   "name": "python",
   "nbconvert_exporter": "python",
   "pygments_lexer": "ipython3",
   "version": "3.7.8"
  }
 },
 "nbformat": 4,
 "nbformat_minor": 5
}
