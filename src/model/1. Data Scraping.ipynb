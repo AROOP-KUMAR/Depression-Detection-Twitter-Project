{
 "cells": [
  {
   "cell_type": "code",
   "execution_count": null,
   "id": "773df680",
   "metadata": {},
   "outputs": [],
   "source": [
    "## Enable concurrent actions\n",
    "import nest_asyncio\n",
    "nest_asyncio.apply()"
   ]
  },
  {
   "cell_type": "code",
   "execution_count": null,
   "id": "187cac55",
   "metadata": {},
   "outputs": [],
   "source": [
    "import twint\n",
    "\n",
    "## Configure twint object\n",
    "config = twint.Config()"
   ]
  },
  {
   "cell_type": "code",
   "execution_count": null,
   "id": "5150c0f4",
   "metadata": {},
   "outputs": [],
   "source": [
    "print(twint.__version__)"
   ]
  },
  {
   "cell_type": "code",
   "execution_count": null,
   "id": "a09b18e0",
   "metadata": {},
   "outputs": [],
   "source": [
    "## Create function for scraping tweets with a given keyword\n",
    "def scrape_by_keyword(keyword, limit):\n",
    "    #configuration\n",
    "    config.Search = keyword\n",
    "    config.Limit = limit\n",
    "    config.Lang = \"en\"\n",
    "    #config.Since = \"2019–5–1 20:30:15\"\n",
    "    #config.Until = \"2020–5–1 20:30:15\"\n",
    "    config.Store_csv = True\n",
    "    config.Output = \"../../data/twint/\" + keyword + \".csv\"\n",
    "    \n",
    "    #running search\n",
    "    twint.run.Search(config)"
   ]
  },
  {
   "cell_type": "code",
   "execution_count": null,
   "id": "12f79e7f",
   "metadata": {},
   "outputs": [],
   "source": [
    "## List of depressive keywords \n",
    "depressive_keywords = [\"depression\", \"#depressed\", \"lonely\", \"sad\", \"very sad\"\n",
    "                       , \"anxiety\", \"antidepressants\", \"sorrow\", \"alone\"\n",
    "                       , \"no happiness\", \"no joy\", \"not happy\", \"suicide\", \"suicidal\"\n",
    "                       , \"drugs\", \"death\", \"jobless\", \"suffer\", \"insomnia\", \"sleepless\"\n",
    "                       , \"critically ill\", \"maniac\", \"disorder\", \"ptsd\", \"mental health\"]"
   ]
  },
  {
   "cell_type": "code",
   "execution_count": null,
   "id": "93b7ef7d",
   "metadata": {},
   "outputs": [],
   "source": [
    "## Scrape depressive tweets\n",
    "for word in depressive_keywords:\n",
    "    scrape_by_keyword(word, 100)\n",
    "    print(word + \" : scraped successfully!\")"
   ]
  },
  {
   "cell_type": "code",
   "execution_count": null,
   "id": "5baf683a",
   "metadata": {},
   "outputs": [],
   "source": []
  }
 ],
 "metadata": {
  "kernelspec": {
   "display_name": "Python 3",
   "language": "python",
   "name": "python3"
  },
  "language_info": {
   "codemirror_mode": {
    "name": "ipython",
    "version": 3
   },
   "file_extension": ".py",
   "mimetype": "text/x-python",
   "name": "python",
   "nbconvert_exporter": "python",
   "pygments_lexer": "ipython3",
   "version": "3.7.8"
  }
 },
 "nbformat": 4,
 "nbformat_minor": 5
}
